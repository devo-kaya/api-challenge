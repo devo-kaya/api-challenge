{
 "cells": [
  {
   "cell_type": "markdown",
   "metadata": {},
   "source": [
    "I got this code from :\n",
    "\n",
    "https://gist.github.com/IT102Gists/aa31be3ac569878cc7df3a8b37ae25a4\n",
    "\n",
    "\n"
   ]
  },
  {
   "cell_type": "code",
   "execution_count": null,
   "metadata": {},
   "outputs": [],
   "source": [
    "# Python's built-in module for encoding and decoding JSON data\n",
    "import json\n",
    "# Python's built-in module for opening and reading URLs\n",
    "from urllib.request import urlopen\n",
    "\n",
    "# sample ISBN for testing: 1593276036\n",
    "# \"https://www.googleapis.com/books/v1/volumes/s1gVAAAAYAAJ\"\n",
    "    \n",
    "while True:\n",
    "\n",
    "    # create getting started variables\n",
    "    api = \"https://www.googleapis.com/books/v1/volumes?q=isbn:\"\n",
    "    isbn = input(\"Enter 10 digit ISBN: \").strip()\n",
    "\n",
    "    # send a request and get a JSON response\n",
    "    resp = urlopen(api + isbn)\n",
    "    # parse JSON into Python as a dictionary\n",
    "    book_data = json.load(resp)\n",
    "\n",
    "    # create additional variables for easy querying\n",
    "    volume_info = book_data[\"items\"][0][\"volumeInfo\"]\n",
    "    author = volume_info[\"authors\"]\n",
    "    # practice with conditional expressions!\n",
    "    prettify_author = author if len(author) > 1 else author[0]\n",
    "\n",
    "    # display title, author, page count, publication date\n",
    "    # fstrings require Python 3.6 or higher\n",
    "    # \\n adds a new line for easier reading\n",
    "    print(f\"\\nTitle: {volume_info['title']}\")\n",
    "    print(f\"Author: {prettify_author}\")\n",
    "    print(f\"Page Count: {volume_info['pageCount']}\")\n",
    "    print(f\"Publication Date: {volume_info['publishedDate']}\")\n",
    "    print(\"\\n***\\n\")\n",
    "\n",
    "    # ask user if they would like to enter another isbn\n",
    "    user_update = input(\"Would you like to enter another ISBN? y or n \").lower().strip()\n",
    "\n",
    "    if user_update != \"y\":\n",
    "        print(\"May the Zen of Python be with you. Have a nice day!\")\n",
    "        break # as the name suggests, the break statement breaks out of the while loop"
   ]
  },
  {
   "cell_type": "markdown",
   "metadata": {},
   "source": [
    "## Challenge Answer\n",
    "\n",
    "\n",
    "### The book with ISBN 9780884271956 has 408 pages!\n"
   ]
  },
  {
   "cell_type": "code",
   "execution_count": 1,
   "metadata": {},
   "outputs": [
    {
     "ename": "SyntaxError",
     "evalue": "invalid syntax (<ipython-input-1-a39df2148d6d>, line 12)",
     "output_type": "error",
     "traceback": [
      "\u001b[0;36m  File \u001b[0;32m\"<ipython-input-1-a39df2148d6d>\"\u001b[0;36m, line \u001b[0;32m12\u001b[0m\n\u001b[0;31m    publish_info = book_data.[\"items\"][0][\"publishedDate\"]\u001b[0m\n\u001b[0m                             ^\u001b[0m\n\u001b[0;31mSyntaxError\u001b[0m\u001b[0;31m:\u001b[0m invalid syntax\n"
     ]
    }
   ],
   "source": [
    "while True:\n",
    "\n",
    "    # create getting started variables\n",
    "    api = \"https://www.googleapis.com/books/v1/volumes?q=isbn:\"\n",
    "    \"https://www.googleapis.com/books/v1/volumes?q=intitle:\"\n",
    "    intitle = input(\"Enter the title name: \").strip()\n",
    "    \n",
    "    resp = urlopen( api + intitle)\n",
    "    \n",
    "    book_data = json.load(resp)\n",
    "    \n",
    "    publish_info = book_data[\"items\"][0][\"publishedDate\"]\n",
    "    volume_info = book_data[\"items\"][0][\"volumeInfo\"]\n",
    "    author = volume_info[\"authors\"]\n",
    "    \n",
    "    print(f\"\\nThe Published date for {intitle} by {author} is: {publish_info}\")\n"
   ]
  },
  {
   "cell_type": "code",
   "execution_count": null,
   "metadata": {},
   "outputs": [],
   "source": []
  }
 ],
 "metadata": {
  "kernelspec": {
   "display_name": "Python 3",
   "language": "python",
   "name": "python3"
  },
  "language_info": {
   "codemirror_mode": {
    "name": "ipython",
    "version": 3
   },
   "file_extension": ".py",
   "mimetype": "text/x-python",
   "name": "python",
   "nbconvert_exporter": "python",
   "pygments_lexer": "ipython3",
   "version": "3.10.4"
  }
 },
 "nbformat": 4,
 "nbformat_minor": 4
}
